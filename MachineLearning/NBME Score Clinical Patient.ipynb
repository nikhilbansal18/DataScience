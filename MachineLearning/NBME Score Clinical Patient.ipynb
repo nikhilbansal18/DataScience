{
 "cells": [
  {
   "cell_type": "code",
   "execution_count": 1,
   "id": "lovely-stage",
   "metadata": {},
   "outputs": [],
   "source": [
    "import pandas as pd\n",
    "import matplotlib.pyplot as plt\n",
    "%matplotlib inline\n",
    "import seaborn as sns"
   ]
  },
  {
   "cell_type": "code",
   "execution_count": 2,
   "id": "intensive-tuner",
   "metadata": {},
   "outputs": [],
   "source": [
    "#features.csv patient_notes.csv sample_submission.csv test.csv train.csv\n",
    "\n",
    "df = pd.read_csv(\"/Users/nikhilbansal/Documents/Coding/Python/data/nbme-score-clinical-patient/train.csv\")\n",
    "df_feature = pd.read_csv(\"/Users/nikhilbansal/Documents/Coding/Python/data/nbme-score-clinical-patient/features.csv\")\n",
    "df_pn = pd.read_csv(\"/Users/nikhilbansal/Documents/Coding/Python/data/nbme-score-clinical-patient/patient_notes.csv\")"
   ]
  },
  {
   "cell_type": "markdown",
   "id": "adapted-niagara",
   "metadata": {},
   "source": [
    "## Process\n",
    "\n",
    "Test taker documents relevant facts in Patient note\n",
    "\n",
    "Patient Note scored by trained physican as per presence of concepts in Features\n"
   ]
  },
  {
   "cell_type": "code",
   "execution_count": 3,
   "id": "unlimited-massage",
   "metadata": {},
   "outputs": [
    {
     "data": {
      "text/plain": [
       "0      100\n",
       "213    100\n",
       "908    100\n",
       "916    100\n",
       "5      100\n",
       "      ... \n",
       "506    100\n",
       "514    100\n",
       "602    100\n",
       "610    100\n",
       "911    100\n",
       "Name: feature_num, Length: 143, dtype: int64"
      ]
     },
     "execution_count": 3,
     "metadata": {},
     "output_type": "execute_result"
    }
   ],
   "source": [
    "#pd.set_option(\"display.max_rows\", None)\n",
    "df.feature_num.value_counts()"
   ]
  },
  {
   "cell_type": "code",
   "execution_count": 4,
   "id": "comparative-moral",
   "metadata": {},
   "outputs": [
    {
     "data": {
      "text/plain": [
       "count    14300.000000\n",
       "mean       466.440559\n",
       "std        292.315326\n",
       "min          0.000000\n",
       "25%        209.000000\n",
       "50%        502.000000\n",
       "75%        708.000000\n",
       "max        916.000000\n",
       "Name: feature_num, dtype: float64"
      ]
     },
     "execution_count": 4,
     "metadata": {},
     "output_type": "execute_result"
    }
   ],
   "source": [
    "#sns.displot(data=df,x=\"feature_num\")\n",
    "df.feature_num.describe()"
   ]
  },
  {
   "cell_type": "code",
   "execution_count": 5,
   "id": "annual-purple",
   "metadata": {},
   "outputs": [
    {
     "data": {
      "text/html": [
       "<div>\n",
       "<style scoped>\n",
       "    .dataframe tbody tr th:only-of-type {\n",
       "        vertical-align: middle;\n",
       "    }\n",
       "\n",
       "    .dataframe tbody tr th {\n",
       "        vertical-align: top;\n",
       "    }\n",
       "\n",
       "    .dataframe thead th {\n",
       "        text-align: right;\n",
       "    }\n",
       "</style>\n",
       "<table border=\"1\" class=\"dataframe\">\n",
       "  <thead>\n",
       "    <tr style=\"text-align: right;\">\n",
       "      <th></th>\n",
       "      <th>id</th>\n",
       "      <th>case_num</th>\n",
       "      <th>pn_num</th>\n",
       "      <th>feature_num</th>\n",
       "      <th>annotation</th>\n",
       "      <th>location</th>\n",
       "    </tr>\n",
       "  </thead>\n",
       "  <tbody>\n",
       "    <tr>\n",
       "      <th>5</th>\n",
       "      <td>00016_005</td>\n",
       "      <td>0</td>\n",
       "      <td>16</td>\n",
       "      <td>5</td>\n",
       "      <td>[]</td>\n",
       "      <td>[]</td>\n",
       "    </tr>\n",
       "    <tr>\n",
       "      <th>18</th>\n",
       "      <td>00041_005</td>\n",
       "      <td>0</td>\n",
       "      <td>41</td>\n",
       "      <td>5</td>\n",
       "      <td>[]</td>\n",
       "      <td>[]</td>\n",
       "    </tr>\n",
       "    <tr>\n",
       "      <th>31</th>\n",
       "      <td>00046_005</td>\n",
       "      <td>0</td>\n",
       "      <td>46</td>\n",
       "      <td>5</td>\n",
       "      <td>['has not had any cold/heat intolerance']</td>\n",
       "      <td>['582 619']</td>\n",
       "    </tr>\n",
       "    <tr>\n",
       "      <th>44</th>\n",
       "      <td>00082_005</td>\n",
       "      <td>0</td>\n",
       "      <td>82</td>\n",
       "      <td>5</td>\n",
       "      <td>[]</td>\n",
       "      <td>[]</td>\n",
       "    </tr>\n",
       "    <tr>\n",
       "      <th>57</th>\n",
       "      <td>00100_005</td>\n",
       "      <td>0</td>\n",
       "      <td>100</td>\n",
       "      <td>5</td>\n",
       "      <td>[]</td>\n",
       "      <td>[]</td>\n",
       "    </tr>\n",
       "    <tr>\n",
       "      <th>...</th>\n",
       "      <td>...</td>\n",
       "      <td>...</td>\n",
       "      <td>...</td>\n",
       "      <td>...</td>\n",
       "      <td>...</td>\n",
       "      <td>...</td>\n",
       "    </tr>\n",
       "    <tr>\n",
       "      <th>1240</th>\n",
       "      <td>02315_005</td>\n",
       "      <td>0</td>\n",
       "      <td>2315</td>\n",
       "      <td>5</td>\n",
       "      <td>[]</td>\n",
       "      <td>[]</td>\n",
       "    </tr>\n",
       "    <tr>\n",
       "      <th>1253</th>\n",
       "      <td>02425_005</td>\n",
       "      <td>0</td>\n",
       "      <td>2425</td>\n",
       "      <td>5</td>\n",
       "      <td>['no heat intolerance']</td>\n",
       "      <td>['380 399']</td>\n",
       "    </tr>\n",
       "    <tr>\n",
       "      <th>1266</th>\n",
       "      <td>02428_005</td>\n",
       "      <td>0</td>\n",
       "      <td>2428</td>\n",
       "      <td>5</td>\n",
       "      <td>['denies sweating']</td>\n",
       "      <td>['217 223;224 232']</td>\n",
       "    </tr>\n",
       "    <tr>\n",
       "      <th>1279</th>\n",
       "      <td>02430_005</td>\n",
       "      <td>0</td>\n",
       "      <td>2430</td>\n",
       "      <td>5</td>\n",
       "      <td>[]</td>\n",
       "      <td>[]</td>\n",
       "    </tr>\n",
       "    <tr>\n",
       "      <th>1292</th>\n",
       "      <td>02436_005</td>\n",
       "      <td>0</td>\n",
       "      <td>2436</td>\n",
       "      <td>5</td>\n",
       "      <td>[]</td>\n",
       "      <td>[]</td>\n",
       "    </tr>\n",
       "  </tbody>\n",
       "</table>\n",
       "<p>100 rows × 6 columns</p>\n",
       "</div>"
      ],
      "text/plain": [
       "             id  case_num  pn_num  feature_num  \\\n",
       "5     00016_005         0      16            5   \n",
       "18    00041_005         0      41            5   \n",
       "31    00046_005         0      46            5   \n",
       "44    00082_005         0      82            5   \n",
       "57    00100_005         0     100            5   \n",
       "...         ...       ...     ...          ...   \n",
       "1240  02315_005         0    2315            5   \n",
       "1253  02425_005         0    2425            5   \n",
       "1266  02428_005         0    2428            5   \n",
       "1279  02430_005         0    2430            5   \n",
       "1292  02436_005         0    2436            5   \n",
       "\n",
       "                                     annotation             location  \n",
       "5                                            []                   []  \n",
       "18                                           []                   []  \n",
       "31    ['has not had any cold/heat intolerance']          ['582 619']  \n",
       "44                                           []                   []  \n",
       "57                                           []                   []  \n",
       "...                                         ...                  ...  \n",
       "1240                                         []                   []  \n",
       "1253                    ['no heat intolerance']          ['380 399']  \n",
       "1266                        ['denies sweating']  ['217 223;224 232']  \n",
       "1279                                         []                   []  \n",
       "1292                                         []                   []  \n",
       "\n",
       "[100 rows x 6 columns]"
      ]
     },
     "execution_count": 5,
     "metadata": {},
     "output_type": "execute_result"
    }
   ],
   "source": [
    "df[df['feature_num']==5]"
   ]
  },
  {
   "cell_type": "code",
   "execution_count": 6,
   "id": "scenic-router",
   "metadata": {
    "scrolled": true
   },
   "outputs": [
    {
     "data": {
      "text/plain": [
       "count     14300\n",
       "unique     5201\n",
       "top          []\n",
       "freq       4399\n",
       "Name: annotation, dtype: object"
      ]
     },
     "execution_count": 6,
     "metadata": {},
     "output_type": "execute_result"
    }
   ],
   "source": [
    "df.annotation.describe()"
   ]
  },
  {
   "cell_type": "code",
   "execution_count": 7,
   "id": "aerial-rally",
   "metadata": {},
   "outputs": [
    {
     "data": {
      "text/plain": [
       "37"
      ]
     },
     "execution_count": 7,
     "metadata": {},
     "output_type": "execute_result"
    }
   ],
   "source": [
    "## 31\t00046_005\t0\t46\t5\t['has not had any cold/heat intolerance']\t['582 619']\n",
    "\n",
    "619-582"
   ]
  },
  {
   "cell_type": "code",
   "execution_count": 8,
   "id": "fleet-scenario",
   "metadata": {},
   "outputs": [
    {
     "data": {
      "text/plain": [
       "37"
      ]
     },
     "execution_count": 8,
     "metadata": {},
     "output_type": "execute_result"
    }
   ],
   "source": [
    "annotation_text=\"has not had any cold/heat intolerance\"\n",
    "len(annotation_text)"
   ]
  },
  {
   "cell_type": "code",
   "execution_count": 9,
   "id": "athletic-greeting",
   "metadata": {},
   "outputs": [
    {
     "data": {
      "text/plain": [
       "'Mr. Cleveland is a 17yo M who was consented by parents to be alone today and provide information.  He has no notable PMH and presented today with palpitations that have been occurring sporadically for 2-3 months.  He started college 7-8 months ago and described feelings of nervousness and anxiousness with starting school and exams.  He endorses using his roommates prescription adderall to study for tests and this coincides with the palpitations at times.  Nothing makes his palpitations worse or better when they occur.  ROS is negative except for light headedness and SOB.  He has not had any cold/heat intolerance, diarrhea, changes in voiding habits, or weight loss.  Worried about being able to play basketball.\\r\\n\\r\\nMeds:  Adderall from his roommate\\r\\nPMH:  none\\r\\nPSH:  none\\r\\nAll:  NKDA\\r\\nFamily:  mom: thyroid issues, father: heart attack\\r\\nsocial:  no tob, occ EtOH, no illicits\\r\\nsex:  with gf, use condoms\\r\\ndiet:  good\\r\\nexercise:  basketball'"
      ]
     },
     "execution_count": 9,
     "metadata": {},
     "output_type": "execute_result"
    }
   ],
   "source": [
    "df_pn[df_pn.pn_num==46]\n",
    "df_pn.pn_history[45]"
   ]
  },
  {
   "cell_type": "code",
   "execution_count": 10,
   "id": "fallen-chicken",
   "metadata": {},
   "outputs": [
    {
     "data": {
      "text/html": [
       "<div>\n",
       "<style scoped>\n",
       "    .dataframe tbody tr th:only-of-type {\n",
       "        vertical-align: middle;\n",
       "    }\n",
       "\n",
       "    .dataframe tbody tr th {\n",
       "        vertical-align: top;\n",
       "    }\n",
       "\n",
       "    .dataframe thead th {\n",
       "        text-align: right;\n",
       "    }\n",
       "</style>\n",
       "<table border=\"1\" class=\"dataframe\">\n",
       "  <thead>\n",
       "    <tr style=\"text-align: right;\">\n",
       "      <th></th>\n",
       "      <th>pn_num</th>\n",
       "      <th>case_num</th>\n",
       "      <th>pn_history</th>\n",
       "    </tr>\n",
       "  </thead>\n",
       "  <tbody>\n",
       "    <tr>\n",
       "      <th>2244</th>\n",
       "      <td>2428</td>\n",
       "      <td>0</td>\n",
       "      <td>dillon cleveland is a 17yo male with no PMH th...</td>\n",
       "    </tr>\n",
       "  </tbody>\n",
       "</table>\n",
       "</div>"
      ],
      "text/plain": [
       "      pn_num  case_num                                         pn_history\n",
       "2244    2428         0  dillon cleveland is a 17yo male with no PMH th..."
      ]
     },
     "execution_count": 10,
     "metadata": {},
     "output_type": "execute_result"
    }
   ],
   "source": [
    "##1266\t02428_005\t0\t2428\t5\t['denies sweating']\t['217 223;224 232']\n",
    "\n",
    "# Check patient notes 2428\n",
    "df_pn[df_pn.pn_num==2428]"
   ]
  },
  {
   "cell_type": "code",
   "execution_count": 11,
   "id": "detailed-madagascar",
   "metadata": {},
   "outputs": [
    {
     "data": {
      "text/plain": [
       "'dillon cleveland is a 17yo male with no PMH that comes in with palpitations. the last time he felt them, about 2 days ago, he also felt short of breath and some chest pressure, and like he was going to \"pass out\". he denies sweating, loss of consciousness, he says these palpitations happen a couple times a month and have been going on for a few months. he does not associate any pattern with when the palpitations happen. the only medication he takes is adderall a few times a week that he gets from his roommate. his family history consists of his mother with a thyroid problem and his father who had a heart attack at age 52. he does not smoke, drinks 3-4 beers on the weekends, and used marijuana once.'"
      ]
     },
     "execution_count": 11,
     "metadata": {},
     "output_type": "execute_result"
    }
   ],
   "source": [
    "df_pn.pn_history[2244]"
   ]
  },
  {
   "cell_type": "code",
   "execution_count": 12,
   "id": "congressional-vegetable",
   "metadata": {},
   "outputs": [
    {
     "data": {
      "text/plain": [
       "'No-hair-changes-OR-no-nail-changes-OR-no-temperature-intolerance'"
      ]
     },
     "execution_count": 12,
     "metadata": {},
     "output_type": "execute_result"
    }
   ],
   "source": [
    "df_feature.feature_text[5]"
   ]
  },
  {
   "cell_type": "code",
   "execution_count": 13,
   "id": "peripheral-henry",
   "metadata": {},
   "outputs": [
    {
     "data": {
      "text/html": [
       "<div>\n",
       "<style scoped>\n",
       "    .dataframe tbody tr th:only-of-type {\n",
       "        vertical-align: middle;\n",
       "    }\n",
       "\n",
       "    .dataframe tbody tr th {\n",
       "        vertical-align: top;\n",
       "    }\n",
       "\n",
       "    .dataframe thead th {\n",
       "        text-align: right;\n",
       "    }\n",
       "</style>\n",
       "<table border=\"1\" class=\"dataframe\">\n",
       "  <thead>\n",
       "    <tr style=\"text-align: right;\">\n",
       "      <th></th>\n",
       "      <th>id</th>\n",
       "      <th>case_num</th>\n",
       "      <th>pn_num</th>\n",
       "      <th>feature_num</th>\n",
       "      <th>annotation</th>\n",
       "      <th>location</th>\n",
       "    </tr>\n",
       "  </thead>\n",
       "  <tbody>\n",
       "    <tr>\n",
       "      <th>0</th>\n",
       "      <td>00016_000</td>\n",
       "      <td>0</td>\n",
       "      <td>16</td>\n",
       "      <td>0</td>\n",
       "      <td>['dad with recent heart attcak']</td>\n",
       "      <td>['696 724']</td>\n",
       "    </tr>\n",
       "    <tr>\n",
       "      <th>1</th>\n",
       "      <td>00016_001</td>\n",
       "      <td>0</td>\n",
       "      <td>16</td>\n",
       "      <td>1</td>\n",
       "      <td>['mom with \"thyroid disease']</td>\n",
       "      <td>['668 693']</td>\n",
       "    </tr>\n",
       "    <tr>\n",
       "      <th>2</th>\n",
       "      <td>00016_002</td>\n",
       "      <td>0</td>\n",
       "      <td>16</td>\n",
       "      <td>2</td>\n",
       "      <td>['chest pressure']</td>\n",
       "      <td>['203 217']</td>\n",
       "    </tr>\n",
       "    <tr>\n",
       "      <th>3</th>\n",
       "      <td>00016_003</td>\n",
       "      <td>0</td>\n",
       "      <td>16</td>\n",
       "      <td>3</td>\n",
       "      <td>['intermittent episodes', 'episode']</td>\n",
       "      <td>['70 91', '176 183']</td>\n",
       "    </tr>\n",
       "    <tr>\n",
       "      <th>4</th>\n",
       "      <td>00016_004</td>\n",
       "      <td>0</td>\n",
       "      <td>16</td>\n",
       "      <td>4</td>\n",
       "      <td>['felt as if he were going to pass out']</td>\n",
       "      <td>['222 258']</td>\n",
       "    </tr>\n",
       "    <tr>\n",
       "      <th>5</th>\n",
       "      <td>00016_005</td>\n",
       "      <td>0</td>\n",
       "      <td>16</td>\n",
       "      <td>5</td>\n",
       "      <td>[]</td>\n",
       "      <td>[]</td>\n",
       "    </tr>\n",
       "    <tr>\n",
       "      <th>6</th>\n",
       "      <td>00016_006</td>\n",
       "      <td>0</td>\n",
       "      <td>16</td>\n",
       "      <td>6</td>\n",
       "      <td>['adderall', 'adderrall', 'adderrall']</td>\n",
       "      <td>['321 329', '404 413', '652 661']</td>\n",
       "    </tr>\n",
       "    <tr>\n",
       "      <th>7</th>\n",
       "      <td>00016_007</td>\n",
       "      <td>0</td>\n",
       "      <td>16</td>\n",
       "      <td>7</td>\n",
       "      <td>[]</td>\n",
       "      <td>[]</td>\n",
       "    </tr>\n",
       "    <tr>\n",
       "      <th>8</th>\n",
       "      <td>00016_008</td>\n",
       "      <td>0</td>\n",
       "      <td>16</td>\n",
       "      <td>8</td>\n",
       "      <td>[]</td>\n",
       "      <td>[]</td>\n",
       "    </tr>\n",
       "    <tr>\n",
       "      <th>9</th>\n",
       "      <td>00016_009</td>\n",
       "      <td>0</td>\n",
       "      <td>16</td>\n",
       "      <td>9</td>\n",
       "      <td>['palpitations', 'heart beating/pounding']</td>\n",
       "      <td>['26 38', '96 118']</td>\n",
       "    </tr>\n",
       "    <tr>\n",
       "      <th>10</th>\n",
       "      <td>00016_010</td>\n",
       "      <td>0</td>\n",
       "      <td>16</td>\n",
       "      <td>10</td>\n",
       "      <td>['3-4 months of']</td>\n",
       "      <td>['56 69']</td>\n",
       "    </tr>\n",
       "    <tr>\n",
       "      <th>11</th>\n",
       "      <td>00016_011</td>\n",
       "      <td>0</td>\n",
       "      <td>16</td>\n",
       "      <td>11</td>\n",
       "      <td>['17yo']</td>\n",
       "      <td>['5 9']</td>\n",
       "    </tr>\n",
       "    <tr>\n",
       "      <th>12</th>\n",
       "      <td>00016_012</td>\n",
       "      <td>0</td>\n",
       "      <td>16</td>\n",
       "      <td>12</td>\n",
       "      <td>['M']</td>\n",
       "      <td>['10 11']</td>\n",
       "    </tr>\n",
       "  </tbody>\n",
       "</table>\n",
       "</div>"
      ],
      "text/plain": [
       "           id  case_num  pn_num  feature_num  \\\n",
       "0   00016_000         0      16            0   \n",
       "1   00016_001         0      16            1   \n",
       "2   00016_002         0      16            2   \n",
       "3   00016_003         0      16            3   \n",
       "4   00016_004         0      16            4   \n",
       "5   00016_005         0      16            5   \n",
       "6   00016_006         0      16            6   \n",
       "7   00016_007         0      16            7   \n",
       "8   00016_008         0      16            8   \n",
       "9   00016_009         0      16            9   \n",
       "10  00016_010         0      16           10   \n",
       "11  00016_011         0      16           11   \n",
       "12  00016_012         0      16           12   \n",
       "\n",
       "                                    annotation  \\\n",
       "0             ['dad with recent heart attcak']   \n",
       "1                ['mom with \"thyroid disease']   \n",
       "2                           ['chest pressure']   \n",
       "3         ['intermittent episodes', 'episode']   \n",
       "4     ['felt as if he were going to pass out']   \n",
       "5                                           []   \n",
       "6       ['adderall', 'adderrall', 'adderrall']   \n",
       "7                                           []   \n",
       "8                                           []   \n",
       "9   ['palpitations', 'heart beating/pounding']   \n",
       "10                           ['3-4 months of']   \n",
       "11                                    ['17yo']   \n",
       "12                                       ['M']   \n",
       "\n",
       "                             location  \n",
       "0                         ['696 724']  \n",
       "1                         ['668 693']  \n",
       "2                         ['203 217']  \n",
       "3                ['70 91', '176 183']  \n",
       "4                         ['222 258']  \n",
       "5                                  []  \n",
       "6   ['321 329', '404 413', '652 661']  \n",
       "7                                  []  \n",
       "8                                  []  \n",
       "9                 ['26 38', '96 118']  \n",
       "10                          ['56 69']  \n",
       "11                            ['5 9']  \n",
       "12                          ['10 11']  "
      ]
     },
     "execution_count": 13,
     "metadata": {},
     "output_type": "execute_result"
    }
   ],
   "source": [
    "df[df.pn_num==16]"
   ]
  },
  {
   "cell_type": "code",
   "execution_count": 16,
   "id": "caroline-master",
   "metadata": {},
   "outputs": [
    {
     "data": {
      "text/plain": [
       "0      1\n",
       "812    1\n",
       "405    1\n",
       "406    1\n",
       "407    1\n",
       "      ..\n",
       "600    1\n",
       "601    1\n",
       "602    1\n",
       "603    1\n",
       "511    1\n",
       "Name: feature_num, Length: 143, dtype: int64"
      ]
     },
     "execution_count": 16,
     "metadata": {},
     "output_type": "execute_result"
    }
   ],
   "source": [
    "df_feature.feature_num.value_counts()"
   ]
  },
  {
   "cell_type": "code",
   "execution_count": 20,
   "id": "identified-environment",
   "metadata": {},
   "outputs": [
    {
     "data": {
      "text/html": [
       "<div>\n",
       "<style scoped>\n",
       "    .dataframe tbody tr th:only-of-type {\n",
       "        vertical-align: middle;\n",
       "    }\n",
       "\n",
       "    .dataframe tbody tr th {\n",
       "        vertical-align: top;\n",
       "    }\n",
       "\n",
       "    .dataframe thead th {\n",
       "        text-align: right;\n",
       "    }\n",
       "</style>\n",
       "<table border=\"1\" class=\"dataframe\">\n",
       "  <thead>\n",
       "    <tr style=\"text-align: right;\">\n",
       "      <th></th>\n",
       "      <th>feature_num</th>\n",
       "      <th>case_num</th>\n",
       "      <th>feature_text</th>\n",
       "    </tr>\n",
       "  </thead>\n",
       "  <tbody>\n",
       "    <tr>\n",
       "      <th>0</th>\n",
       "      <td>0</td>\n",
       "      <td>0</td>\n",
       "      <td>Family-history-of-MI-OR-Family-history-of-myoc...</td>\n",
       "    </tr>\n",
       "    <tr>\n",
       "      <th>1</th>\n",
       "      <td>1</td>\n",
       "      <td>0</td>\n",
       "      <td>Family-history-of-thyroid-disorder</td>\n",
       "    </tr>\n",
       "    <tr>\n",
       "      <th>2</th>\n",
       "      <td>2</td>\n",
       "      <td>0</td>\n",
       "      <td>Chest-pressure</td>\n",
       "    </tr>\n",
       "    <tr>\n",
       "      <th>3</th>\n",
       "      <td>3</td>\n",
       "      <td>0</td>\n",
       "      <td>Intermittent-symptoms</td>\n",
       "    </tr>\n",
       "    <tr>\n",
       "      <th>4</th>\n",
       "      <td>4</td>\n",
       "      <td>0</td>\n",
       "      <td>Lightheaded</td>\n",
       "    </tr>\n",
       "    <tr>\n",
       "      <th>...</th>\n",
       "      <td>...</td>\n",
       "      <td>...</td>\n",
       "      <td>...</td>\n",
       "    </tr>\n",
       "    <tr>\n",
       "      <th>138</th>\n",
       "      <td>912</td>\n",
       "      <td>9</td>\n",
       "      <td>Family-history-of-migraines</td>\n",
       "    </tr>\n",
       "    <tr>\n",
       "      <th>139</th>\n",
       "      <td>913</td>\n",
       "      <td>9</td>\n",
       "      <td>Female</td>\n",
       "    </tr>\n",
       "    <tr>\n",
       "      <th>140</th>\n",
       "      <td>914</td>\n",
       "      <td>9</td>\n",
       "      <td>Photophobia</td>\n",
       "    </tr>\n",
       "    <tr>\n",
       "      <th>141</th>\n",
       "      <td>915</td>\n",
       "      <td>9</td>\n",
       "      <td>No-known-illness-contacts</td>\n",
       "    </tr>\n",
       "    <tr>\n",
       "      <th>142</th>\n",
       "      <td>916</td>\n",
       "      <td>9</td>\n",
       "      <td>Subjective-fever</td>\n",
       "    </tr>\n",
       "  </tbody>\n",
       "</table>\n",
       "<p>143 rows × 3 columns</p>\n",
       "</div>"
      ],
      "text/plain": [
       "     feature_num  case_num                                       feature_text\n",
       "0              0         0  Family-history-of-MI-OR-Family-history-of-myoc...\n",
       "1              1         0                 Family-history-of-thyroid-disorder\n",
       "2              2         0                                     Chest-pressure\n",
       "3              3         0                              Intermittent-symptoms\n",
       "4              4         0                                        Lightheaded\n",
       "..           ...       ...                                                ...\n",
       "138          912         9                        Family-history-of-migraines\n",
       "139          913         9                                             Female\n",
       "140          914         9                                        Photophobia\n",
       "141          915         9                          No-known-illness-contacts\n",
       "142          916         9                                   Subjective-fever\n",
       "\n",
       "[143 rows x 3 columns]"
      ]
     },
     "execution_count": 20,
     "metadata": {},
     "output_type": "execute_result"
    }
   ],
   "source": [
    "df_feature"
   ]
  }
 ],
 "metadata": {
  "kernelspec": {
   "display_name": "Python 3",
   "language": "python",
   "name": "python3"
  },
  "language_info": {
   "codemirror_mode": {
    "name": "ipython",
    "version": 3
   },
   "file_extension": ".py",
   "mimetype": "text/x-python",
   "name": "python",
   "nbconvert_exporter": "python",
   "pygments_lexer": "ipython3",
   "version": "3.8.8"
  }
 },
 "nbformat": 4,
 "nbformat_minor": 5
}
