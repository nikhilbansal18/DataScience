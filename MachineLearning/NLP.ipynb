{
 "cells": [
  {
   "cell_type": "markdown",
   "id": "signed-huntington",
   "metadata": {},
   "source": [
    "## 3 Broad categories to solve NLP problems\n",
    "\n",
    "1. Rules & Heuristics - Information extraction E.g. Gmail extracting ticket information. One of the technique to do so is regex.\n",
    "2. Machine Learning - Text classification E.g. Spam Detection. Counter vectorizer & Naive Bayes Classifier is one of the way to solve the problem.\n",
    "3. Deep learning - Sentence Embeddings."
   ]
  },
  {
   "cell_type": "markdown",
   "id": "roman-absence",
   "metadata": {},
   "source": [
    "### NLP Tasks\n",
    "1. Task Classification E.g. Hate Speech Detection\n",
    "2. Task Similarity E.g. Resume matching with JD.\n",
    "3. Information Extraction E.g. Gmail Flight info\n",
    "4. Information Retrieval E.g. restaurant near me\n",
    "5. Chat Bots\n",
    "6. Language Modeling E.g. Auto complete\n",
    "7. Machine Translation\n",
    "8. Text Summarization\n",
    "9. Topic Modeling\n",
    "10. Voice assistants"
   ]
  },
  {
   "cell_type": "code",
   "execution_count": null,
   "id": "sunrise-incentive",
   "metadata": {},
   "outputs": [],
   "source": [
    "### NLP Pipeline\n",
    "\n",
    "1. Data Acquistion\n",
    "2. Text Extraction & Clean up\n",
    "3. Pre processing\n",
    "    a. Sentence Segmentation/Tokenizer (NLTK/Spacy Libraries)\n",
    "    b. Word Tokenization\n",
    "    c. Stemming\n",
    "    d. Lemmatization\n",
    "4. Feature Engineering (TF-IDF/One Hot Encoding/Word Embedding)\n",
    "5. Model Building\n",
    "6. Evaluation\n",
    "7. Deployment\n",
    "8. Monitor & Update"
   ]
  }
 ],
 "metadata": {
  "kernelspec": {
   "display_name": "Python 3",
   "language": "python",
   "name": "python3"
  },
  "language_info": {
   "codemirror_mode": {
    "name": "ipython",
    "version": 3
   },
   "file_extension": ".py",
   "mimetype": "text/x-python",
   "name": "python",
   "nbconvert_exporter": "python",
   "pygments_lexer": "ipython3",
   "version": "3.8.8"
  }
 },
 "nbformat": 4,
 "nbformat_minor": 5
}
